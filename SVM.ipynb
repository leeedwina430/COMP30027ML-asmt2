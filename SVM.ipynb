{
 "cells": [
  {
   "cell_type": "code",
   "execution_count": 1,
   "id": "a8d1d5fa-50dd-4733-ba2b-828be70ed027",
   "metadata": {},
   "outputs": [],
   "source": [
    "import numpy as np\n",
    "import pandas as pd\n",
    "import matplotlib.pyplot as plt\n",
    "from sklearn.model_selection import train_test_split\n",
    "from sklearn.preprocessing import StandardScaler\n",
    "from sklearn import svm\n",
    "from sklearn.metrics import mean_squared_error\n",
    "from sklearn.metrics import accuracy_score\n",
    "import time\n"
   ]
  },
  {
   "cell_type": "code",
   "execution_count": 2,
   "id": "f9549199-c0b9-4225-9ad2-06af5f5d656b",
   "metadata": {},
   "outputs": [],
   "source": [
    "# Removes warnings for the error messege\n",
    "import warnings\n",
    "warnings.simplefilter(action='ignore', category=FutureWarning)\n",
    "# Make sparse coulms, fix everything\n",
    "# Scale the data for svm"
   ]
  },
  {
   "cell_type": "code",
   "execution_count": 3,
   "id": "f20d553f-28eb-452d-8592-844939dd4da1",
   "metadata": {},
   "outputs": [],
   "source": [
    "data = pd.read_csv(r\"book_rating_train.csv\", index_col = False, delimiter = ',', header=0)\n",
    "# X_train = X_full_train.iloc[:,:-1]\n",
    "Y = data[\"rating_label\"]\n",
    "\n",
    "label_var = 'rating_label'\n",
    "\n",
    "# Gets the data types, and removes all int data types\n",
    "data[label_var], ind2label = pd.factorize(data[label_var])\n",
    "data = data.select_dtypes(include=\"number\")\n",
    "\n",
    "# normalize numerical variables\n",
    "for feature in data:\n",
    "    scaler = StandardScaler()\n",
    "    scaler.fit(data[feature].values.reshape(-1,1))\n",
    "    data[feature] = scaler.transform(data[feature].values.reshape(-1,1))\n",
    "\n",
    "doc2vec_data_source = \"book_text_features_doc2vec\"\n",
    "# Maybe replace names of 0, 1, 2 etc with word vector i\n",
    "# can't do random forrest with float64, need int64\n",
    "authors_d2v_test = pd.read_csv(f\"{doc2vec_data_source}/test_authors_doc2vec20.csv\", index_col = False, delimiter = ',', header=None)\n",
    "authors_d2v_train = pd.read_csv(f\"{doc2vec_data_source}/train_authors_doc2vec20.csv\", index_col = False, delimiter = ',', header=None)\n",
    "\n",
    "desc_d2v_test = pd.read_csv(f\"{doc2vec_data_source}/test_desc_doc2vec100.csv\", index_col = False, delimiter = ',', header=None)\n",
    "desc_d2v_train = pd.read_csv(f\"{doc2vec_data_source}/train_desc_doc2vec100.csv\", index_col = False, delimiter = ',', header=None)\n",
    "\n",
    "name_d2v_test = pd.read_csv(f\"{doc2vec_data_source}/test_name_doc2vec100.csv\", index_col = False, delimiter = ',', header=None)\n",
    "name_d2v_train = pd.read_csv(f\"{doc2vec_data_source}/train_name_doc2vec100.csv\", index_col = False, delimiter = ',', header=None)"
   ]
  },
  {
   "cell_type": "code",
   "execution_count": 4,
   "id": "eb03e07c-7e78-4f21-a204-6892015d4d4b",
   "metadata": {},
   "outputs": [],
   "source": [
    "X_train = data.iloc[:,:-1]\n",
    "# Y = X_full_train[\"rating_label\"]"
   ]
  },
  {
   "cell_type": "code",
   "execution_count": 43,
   "id": "7036c400-cec1-4ee5-a94f-5d1ccb548594",
   "metadata": {
    "tags": []
   },
   "outputs": [],
   "source": [
    "X = pd.concat([X_train, authors_d2v_train, desc_d2v_train, name_d2v_train], axis=1)"
   ]
  },
  {
   "cell_type": "code",
   "execution_count": 44,
   "id": "0964b934-47d0-41b4-a6f9-8ced189c6b08",
   "metadata": {},
   "outputs": [],
   "source": [
    "# X = pd.read_csv(f\"X_train_data_merged.csv\", index_col = False, delimiter = ',', header=None)"
   ]
  },
  {
   "cell_type": "code",
   "execution_count": 45,
   "id": "dac22e3a-7303-4c21-8891-41ce382d50de",
   "metadata": {},
   "outputs": [
    {
     "data": {
      "text/plain": [
       "((21442, 444), (21442,))"
      ]
     },
     "execution_count": 45,
     "metadata": {},
     "output_type": "execute_result"
    }
   ],
   "source": [
    "# Attemping random dropout\n",
    "four_rand_sample = Y.loc[Y==4.0].sample(frac=0.1)\n",
    "four_rand_sample\n",
    "\n",
    "four_rand_sample.index\n",
    "X = X.drop(four_rand_sample.index)\n",
    "Y = Y.drop(four_rand_sample.index)\n",
    "X.shape, Y.shape"
   ]
  },
  {
   "cell_type": "code",
   "execution_count": 46,
   "id": "55621a8f-55bd-4c75-8d92-52645e620160",
   "metadata": {},
   "outputs": [],
   "source": [
    "X_train, X_test, y_train, y_test = train_test_split(X, Y, test_size=0.2, random_state=42)"
   ]
  },
  {
   "cell_type": "code",
   "execution_count": 47,
   "id": "0f4dc752-48ae-4d9c-addc-cb6871c1434e",
   "metadata": {},
   "outputs": [
    {
     "ename": "SyntaxError",
     "evalue": "invalid syntax (1342723886.py, line 11)",
     "output_type": "error",
     "traceback": [
      "\u001b[1;36m  File \u001b[1;32m\"C:\\Users\\harri\\AppData\\Local\\Temp\\ipykernel_11012\\1342723886.py\"\u001b[1;36m, line \u001b[1;32m11\u001b[0m\n\u001b[1;33m    describe_data = pd.DataFrame(predictions)\u001b[0m\n\u001b[1;37m    ^\u001b[0m\n\u001b[1;31mSyntaxError\u001b[0m\u001b[1;31m:\u001b[0m invalid syntax\n"
     ]
    }
   ],
   "source": [
    "def SVM(x_train=None, x_test=None, y_train=None, y_test=None, kernel_param=\"rbf\"):\n",
    "    # Kernals which can be used\n",
    "    # {‘linear’, ‘poly’, ‘rbf’, ‘sigmoid’, ‘precomputed’}\n",
    "    clf = svm.SVC(kernel=\"linear\")\n",
    "    clf.fit(x_train, y_train)\n",
    "\n",
    "    predictions = clf.predict(x_test)\n",
    "    # print(predictions)\n",
    "\n",
    "    describe_data = pd.DataFrame(predictions)\n",
    "    # print(describe_data.describe())\n",
    "    \n",
    "    accuracy = accuracy_score(y_test, predictions)\n",
    "    print(accuracy)\n",
    "    \n",
    "    return clf"
   ]
  },
  {
   "cell_type": "code",
   "execution_count": 9,
   "id": "b52eb6c7-b0ec-45a1-84c0-6968a88976fb",
   "metadata": {
    "collapsed": true,
    "jupyter": {
     "outputs_hidden": true
    },
    "tags": []
   },
   "outputs": [
    {
     "name": "stdout",
     "output_type": "stream",
     "text": [
      "[4. 4. 4. ... 4. 4. 4.]\n",
      "            0\n",
      "count  4613.0\n",
      "mean      4.0\n",
      "std       0.0\n",
      "min       4.0\n",
      "25%       4.0\n",
      "50%       4.0\n",
      "75%       4.0\n",
      "max       4.0\n",
      "0.7112508129200087\n",
      "Kernel linear, acc: SVC(kernel='linear')\n",
      "[4. 4. 4. ... 4. 4. 4.]\n",
      "            0\n",
      "count  4613.0\n",
      "mean      4.0\n",
      "std       0.0\n",
      "min       4.0\n",
      "25%       4.0\n",
      "50%       4.0\n",
      "75%       4.0\n",
      "max       4.0\n",
      "0.7112508129200087\n",
      "Kernel poly, acc: SVC(kernel='linear')\n",
      "[4. 4. 4. ... 4. 4. 4.]\n",
      "            0\n",
      "count  4613.0\n",
      "mean      4.0\n",
      "std       0.0\n",
      "min       4.0\n",
      "25%       4.0\n",
      "50%       4.0\n",
      "75%       4.0\n",
      "max       4.0\n",
      "0.7112508129200087\n",
      "Kernel rbf, acc: SVC(kernel='linear')\n",
      "[4. 4. 4. ... 4. 4. 4.]\n",
      "            0\n",
      "count  4613.0\n",
      "mean      4.0\n",
      "std       0.0\n",
      "min       4.0\n",
      "25%       4.0\n",
      "50%       4.0\n",
      "75%       4.0\n",
      "max       4.0\n",
      "0.7112508129200087\n",
      "Kernel sigmoid, acc: SVC(kernel='linear')\n",
      "[4. 4. 4. ... 4. 4. 4.]\n",
      "            0\n",
      "count  4613.0\n",
      "mean      4.0\n",
      "std       0.0\n",
      "min       4.0\n",
      "25%       4.0\n",
      "50%       4.0\n",
      "75%       4.0\n",
      "max       4.0\n",
      "0.7112508129200087\n",
      "Kernel precomputed, acc: SVC(kernel='linear')\n"
     ]
    }
   ],
   "source": [
    "# Do not normalise the Y label\n",
    "# Bad things happen >:((((\n",
    "kernel_list = [\"linear\", \"poly\", \"rbf\", \"sigmoid\", \"precomputed\"]\n",
    "for kernel in kernel_list:\n",
    "    temp_acc = []\n",
    "    print(f\"Kernel: {kernel}\")\n",
    "    for i in range(4):\n",
    "        acc = SVM(X_train, X_test, y_train, y_test, kernel_param=kernel)\n",
    "        temp_acc.append(acc)\n",
    "        print(f\"acc: {acc}\")\n",
    "    print(f\"Avg acc: {temp_acc.mean})"
   ]
  },
  {
   "cell_type": "code",
   "execution_count": 17,
   "id": "3e5bc935-b0d9-4219-ba27-bf0c3f1bcbc3",
   "metadata": {},
   "outputs": [
    {
     "data": {
      "text/plain": [
       "array([4., 4., 4., ..., 4., 4., 4.])"
      ]
     },
     "execution_count": 17,
     "metadata": {},
     "output_type": "execute_result"
    }
   ],
   "source": [
    "clf = svm.SVC(kernel=\"linear\")\n",
    "clf.fit(X_train, y_train,)\n",
    "\n",
    "predictions = clf.predict(X_test)\n",
    "predictions"
   ]
  },
  {
   "cell_type": "code",
   "execution_count": 55,
   "id": "128ceb4d-3a62-45bc-ad50-7749ca858e11",
   "metadata": {},
   "outputs": [
    {
     "name": "stdout",
     "output_type": "stream",
     "text": [
      "0.6805782233620891\n",
      "0.6805782233620891\n",
      "0.6805782233620891\n",
      "0.6805782233620891\n",
      "0.6805782233620891\n",
      "0.6805782233620891\n",
      "0.6805782233620891\n",
      "0.6805782233620891\n",
      "0.6805782233620891\n",
      "0.6805782233620891\n",
      "0.6805782233620891\n",
      "0.6805782233620891\n",
      "0.6805782233620891\n",
      "0.6805782233620891\n",
      "0.6805782233620891\n",
      "0.6805782233620891\n",
      "0.6805782233620891\n",
      "0.6805782233620891\n",
      "0.6805782233620891\n",
      "0.6805782233620891\n",
      "0.6805782233620891\n",
      "0.6805782233620891\n",
      "0.6805782233620891\n",
      "0.6805782233620891\n",
      "0.6805782233620891\n",
      "0.6805782233620891\n",
      "0.6805782233620891\n",
      "0.6805782233620891\n",
      "0.6805782233620891\n",
      "0.6805782233620891\n"
     ]
    }
   ],
   "source": [
    "for i in range(30):\n",
    "    X_train, X_test, y_train, y_test = train_test_split(X, Y, test_size=0.2, random_state=42)\n",
    "    data = np.full((4289,), 4.0)\n",
    "    df = pd.DataFrame(data)\n",
    "    print(accuracy_score(y_test, df))"
   ]
  },
  {
   "cell_type": "code",
   "execution_count": 63,
   "id": "99ac67e2-d7d9-42a9-adf0-b84a0dd54d23",
   "metadata": {},
   "outputs": [
    {
     "data": {
      "text/plain": [
       "(21442,)"
      ]
     },
     "execution_count": 63,
     "metadata": {},
     "output_type": "execute_result"
    }
   ],
   "source": []
  },
  {
   "cell_type": "code",
   "execution_count": 13,
   "id": "9fc6faf1-7018-491e-9cdb-759c4314f0f7",
   "metadata": {},
   "outputs": [
    {
     "data": {
      "text/plain": [
       "0.04296925811906517"
      ]
     },
     "execution_count": 13,
     "metadata": {},
     "output_type": "execute_result"
    }
   ],
   "source": [
    "991 / 23063"
   ]
  }
 ],
 "metadata": {
  "kernelspec": {
   "display_name": "Python 3 (ipykernel)",
   "language": "python",
   "name": "python3"
  },
  "language_info": {
   "codemirror_mode": {
    "name": "ipython",
    "version": 3
   },
   "file_extension": ".py",
   "mimetype": "text/x-python",
   "name": "python",
   "nbconvert_exporter": "python",
   "pygments_lexer": "ipython3",
   "version": "3.9.13"
  }
 },
 "nbformat": 4,
 "nbformat_minor": 5
}
