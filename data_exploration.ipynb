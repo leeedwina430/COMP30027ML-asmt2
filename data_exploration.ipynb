{
 "cells": [
  {
   "cell_type": "markdown",
   "metadata": {},
   "source": [
    "# Data exploration"
   ]
  },
  {
   "cell_type": "code",
   "execution_count": 1,
   "metadata": {},
   "outputs": [
    {
     "data": {
      "text/html": [
       "<div>\n",
       "<style scoped>\n",
       "    .dataframe tbody tr th:only-of-type {\n",
       "        vertical-align: middle;\n",
       "    }\n",
       "\n",
       "    .dataframe tbody tr th {\n",
       "        vertical-align: top;\n",
       "    }\n",
       "\n",
       "    .dataframe thead th {\n",
       "        text-align: right;\n",
       "    }\n",
       "</style>\n",
       "<table border=\"1\" class=\"dataframe\">\n",
       "  <thead>\n",
       "    <tr style=\"text-align: right;\">\n",
       "      <th></th>\n",
       "      <th>Name</th>\n",
       "      <th>Authors</th>\n",
       "      <th>PublishYear</th>\n",
       "      <th>PublishMonth</th>\n",
       "      <th>PublishDay</th>\n",
       "      <th>Publisher</th>\n",
       "      <th>Language</th>\n",
       "      <th>pagesNumber</th>\n",
       "      <th>Description</th>\n",
       "      <th>rating_label</th>\n",
       "    </tr>\n",
       "  </thead>\n",
       "  <tbody>\n",
       "    <tr>\n",
       "      <th>0</th>\n",
       "      <td>Best of Dr Jean: Reading &amp; Writing</td>\n",
       "      <td>Jean R. Feldman</td>\n",
       "      <td>2005</td>\n",
       "      <td>6</td>\n",
       "      <td>1</td>\n",
       "      <td>Teaching Resources</td>\n",
       "      <td>NaN</td>\n",
       "      <td>48</td>\n",
       "      <td>Teachers will turn to this treasury of ideas a...</td>\n",
       "      <td>4.0</td>\n",
       "    </tr>\n",
       "    <tr>\n",
       "      <th>1</th>\n",
       "      <td>Here All Dwell Free</td>\n",
       "      <td>Gertrud Mueller Nelson</td>\n",
       "      <td>1991</td>\n",
       "      <td>10</td>\n",
       "      <td>1</td>\n",
       "      <td>DoubleDay</td>\n",
       "      <td>NaN</td>\n",
       "      <td>364</td>\n",
       "      <td>Every human being lives a fairy tale -- an unc...</td>\n",
       "      <td>4.0</td>\n",
       "    </tr>\n",
       "    <tr>\n",
       "      <th>2</th>\n",
       "      <td>Boomer's Big Surprise</td>\n",
       "      <td>Constance W. McGeorge</td>\n",
       "      <td>2005</td>\n",
       "      <td>3</td>\n",
       "      <td>31</td>\n",
       "      <td>Chronicle Books</td>\n",
       "      <td>NaN</td>\n",
       "      <td>32</td>\n",
       "      <td>&lt;i&gt;Boomer's Big Surprise&lt;/i&gt; will have special...</td>\n",
       "      <td>4.0</td>\n",
       "    </tr>\n",
       "    <tr>\n",
       "      <th>3</th>\n",
       "      <td>I'll Go and Do More: Annie Dodge Wauneka, Nava...</td>\n",
       "      <td>Carolyn Niethammer</td>\n",
       "      <td>2004</td>\n",
       "      <td>9</td>\n",
       "      <td>1</td>\n",
       "      <td>Bison Books</td>\n",
       "      <td>NaN</td>\n",
       "      <td>293</td>\n",
       "      <td>&lt;i&gt;I'll Go and Do More&lt;/i&gt; is the story of Ann...</td>\n",
       "      <td>4.0</td>\n",
       "    </tr>\n",
       "    <tr>\n",
       "      <th>4</th>\n",
       "      <td>Us</td>\n",
       "      <td>Richard       Mason</td>\n",
       "      <td>2005</td>\n",
       "      <td>7</td>\n",
       "      <td>7</td>\n",
       "      <td>Penguin Books Ltd</td>\n",
       "      <td>eng</td>\n",
       "      <td>352</td>\n",
       "      <td>Since their days at Oxford, they've gone their...</td>\n",
       "      <td>3.0</td>\n",
       "    </tr>\n",
       "    <tr>\n",
       "      <th>...</th>\n",
       "      <td>...</td>\n",
       "      <td>...</td>\n",
       "      <td>...</td>\n",
       "      <td>...</td>\n",
       "      <td>...</td>\n",
       "      <td>...</td>\n",
       "      <td>...</td>\n",
       "      <td>...</td>\n",
       "      <td>...</td>\n",
       "      <td>...</td>\n",
       "    </tr>\n",
       "    <tr>\n",
       "      <th>23058</th>\n",
       "      <td>Black Coffee Blues</td>\n",
       "      <td>Henry Rollins</td>\n",
       "      <td>1997</td>\n",
       "      <td>8</td>\n",
       "      <td>1</td>\n",
       "      <td>2.13.61</td>\n",
       "      <td>eng</td>\n",
       "      <td>120</td>\n",
       "      <td>\"If I lose the light of the sun, I will write ...</td>\n",
       "      <td>4.0</td>\n",
       "    </tr>\n",
       "    <tr>\n",
       "      <th>23059</th>\n",
       "      <td>America's Champion Swimmer: Gertrude Ederle</td>\n",
       "      <td>David A. Adler</td>\n",
       "      <td>2005</td>\n",
       "      <td>6</td>\n",
       "      <td>1</td>\n",
       "      <td>HMH Books for Young Readers</td>\n",
       "      <td>NaN</td>\n",
       "      <td>32</td>\n",
       "      <td>Trudy Ederle loved to swim, and she was determ...</td>\n",
       "      <td>4.0</td>\n",
       "    </tr>\n",
       "    <tr>\n",
       "      <th>23060</th>\n",
       "      <td>Crime and Custom in Savage Society</td>\n",
       "      <td>Bronisław Malinowski</td>\n",
       "      <td>1989</td>\n",
       "      <td>2</td>\n",
       "      <td>15</td>\n",
       "      <td>Rowman &amp; Littlefield Publishers</td>\n",
       "      <td>NaN</td>\n",
       "      <td>132</td>\n",
       "      <td>Bronislaw Malinowski achieved international re...</td>\n",
       "      <td>4.0</td>\n",
       "    </tr>\n",
       "    <tr>\n",
       "      <th>23061</th>\n",
       "      <td>The Name and Nature of Poetry and Other Select...</td>\n",
       "      <td>A.E. Housman</td>\n",
       "      <td>1998</td>\n",
       "      <td>4</td>\n",
       "      <td>21</td>\n",
       "      <td>New Amsterdam Books</td>\n",
       "      <td>NaN</td>\n",
       "      <td>136</td>\n",
       "      <td>Lovers of Housman's poetry and admirers of his...</td>\n",
       "      <td>4.0</td>\n",
       "    </tr>\n",
       "    <tr>\n",
       "      <th>23062</th>\n",
       "      <td>Redemption (Sevens, #7)</td>\n",
       "      <td>Scott Wallens</td>\n",
       "      <td>2002</td>\n",
       "      <td>7</td>\n",
       "      <td>8</td>\n",
       "      <td>Puffin</td>\n",
       "      <td>NaN</td>\n",
       "      <td>192</td>\n",
       "      <td>Before the accident, Peter spent every weekend...</td>\n",
       "      <td>4.0</td>\n",
       "    </tr>\n",
       "  </tbody>\n",
       "</table>\n",
       "<p>23063 rows × 10 columns</p>\n",
       "</div>"
      ],
      "text/plain": [
       "                                                    Name  \\\n",
       "0                     Best of Dr Jean: Reading & Writing   \n",
       "1                                    Here All Dwell Free   \n",
       "2                                  Boomer's Big Surprise   \n",
       "3      I'll Go and Do More: Annie Dodge Wauneka, Nava...   \n",
       "4                                                     Us   \n",
       "...                                                  ...   \n",
       "23058                                 Black Coffee Blues   \n",
       "23059        America's Champion Swimmer: Gertrude Ederle   \n",
       "23060                 Crime and Custom in Savage Society   \n",
       "23061  The Name and Nature of Poetry and Other Select...   \n",
       "23062                            Redemption (Sevens, #7)   \n",
       "\n",
       "                      Authors  PublishYear  PublishMonth  PublishDay  \\\n",
       "0             Jean R. Feldman         2005             6           1   \n",
       "1      Gertrud Mueller Nelson         1991            10           1   \n",
       "2       Constance W. McGeorge         2005             3          31   \n",
       "3          Carolyn Niethammer         2004             9           1   \n",
       "4         Richard       Mason         2005             7           7   \n",
       "...                       ...          ...           ...         ...   \n",
       "23058           Henry Rollins         1997             8           1   \n",
       "23059          David A. Adler         2005             6           1   \n",
       "23060    Bronisław Malinowski         1989             2          15   \n",
       "23061            A.E. Housman         1998             4          21   \n",
       "23062           Scott Wallens         2002             7           8   \n",
       "\n",
       "                             Publisher Language  pagesNumber  \\\n",
       "0                   Teaching Resources      NaN           48   \n",
       "1                            DoubleDay      NaN          364   \n",
       "2                      Chronicle Books      NaN           32   \n",
       "3                          Bison Books      NaN          293   \n",
       "4                    Penguin Books Ltd      eng          352   \n",
       "...                                ...      ...          ...   \n",
       "23058                          2.13.61      eng          120   \n",
       "23059      HMH Books for Young Readers      NaN           32   \n",
       "23060  Rowman & Littlefield Publishers      NaN          132   \n",
       "23061              New Amsterdam Books      NaN          136   \n",
       "23062                           Puffin      NaN          192   \n",
       "\n",
       "                                             Description  rating_label  \n",
       "0      Teachers will turn to this treasury of ideas a...           4.0  \n",
       "1      Every human being lives a fairy tale -- an unc...           4.0  \n",
       "2      <i>Boomer's Big Surprise</i> will have special...           4.0  \n",
       "3      <i>I'll Go and Do More</i> is the story of Ann...           4.0  \n",
       "4      Since their days at Oxford, they've gone their...           3.0  \n",
       "...                                                  ...           ...  \n",
       "23058  \"If I lose the light of the sun, I will write ...           4.0  \n",
       "23059  Trudy Ederle loved to swim, and she was determ...           4.0  \n",
       "23060  Bronislaw Malinowski achieved international re...           4.0  \n",
       "23061  Lovers of Housman's poetry and admirers of his...           4.0  \n",
       "23062  Before the accident, Peter spent every weekend...           4.0  \n",
       "\n",
       "[23063 rows x 10 columns]"
      ]
     },
     "execution_count": 1,
     "metadata": {},
     "output_type": "execute_result"
    }
   ],
   "source": [
    "import numpy as np\n",
    "import pandas as pd\n",
    "\n",
    "x_train_path = \"data/book_rating_train.csv\"\n",
    "x_train_original = pd.read_csv(x_train_path, index_col = False, delimiter = ',', header=0)\n",
    "train_corpus_name = x_train_original['Name']\n",
    "test_name = x_train_original['Name']\n",
    "\n",
    "x_train_original"
   ]
  },
  {
   "cell_type": "markdown",
   "metadata": {},
   "source": [
    "## check the distribution of rating"
   ]
  },
  {
   "cell_type": "code",
   "execution_count": 2,
   "metadata": {},
   "outputs": [
    {
     "data": {
      "text/plain": [
       "4.0    16208\n",
       "3.0     5864\n",
       "5.0      991\n",
       "Name: rating_label, dtype: int64"
      ]
     },
     "execution_count": 2,
     "metadata": {},
     "output_type": "execute_result"
    },
    {
     "data": {
      "image/png": "[encoded data removed]",
      "text/plain": [
       "<Figure size 432x288 with 1 Axes>"
      ]
     },
     "metadata": {
      "needs_background": "light"
     },
     "output_type": "display_data"
    }
   ],
   "source": [
    "import matplotlib.pyplot as plt\n",
    "plt.hist(x_train_original['rating_label'], bins=8)\n",
    "\n",
    "x_train_original['rating_label'].value_counts()"
   ]
  },
  {
   "cell_type": "markdown",
   "metadata": {},
   "source": [
    "###  the classification is imbalanced, perhaps data augmentation?"
   ]
  },
  {
   "cell_type": "code",
   "execution_count": 3,
   "metadata": {},
   "outputs": [
    {
     "name": "stdout",
     "output_type": "stream",
     "text": [
      "average length of name:  41.5\n",
      "count    23063.000000\n",
      "mean        41.503967\n",
      "std         26.104456\n",
      "min          1.000000\n",
      "25%         21.000000\n",
      "50%         36.000000\n",
      "75%         56.000000\n",
      "max        255.000000\n",
      "Name: Name, dtype: float64\n"
     ]
    },
    {
     "data": {
      "image/png": "[encoded data removed]",
      "text/plain": [
       "<Figure size 432x288 with 1 Axes>"
      ]
     },
     "metadata": {
      "needs_background": "light"
     },
     "output_type": "display_data"
    }
   ],
   "source": [
    "# check the distribution of the length of the text \n",
    "# # NOTE: len of string, not words\n",
    "print('average length of name: ', round(np.mean(train_corpus_name.apply(lambda x: len(x))), 2))\n",
    "print(x_train_original.Name.apply(lambda x: len(x)).describe())\n",
    "p1 = plt.hist(x_train_original.Name.apply(lambda x: len(x)), bins=20)\n",
    "plt.show()"
   ]
  },
  {
   "cell_type": "code",
   "execution_count": 4,
   "metadata": {},
   "outputs": [
    {
     "name": "stdout",
     "output_type": "stream",
     "text": [
      "average length of Authors:  14.25\n",
      "count    23063.000000\n",
      "mean        14.245111\n",
      "std          3.522586\n",
      "min          2.000000\n",
      "25%         12.000000\n",
      "50%         14.000000\n",
      "75%         16.000000\n",
      "max         47.000000\n",
      "Name: Authors, dtype: float64\n"
     ]
    },
    {
     "data": {
      "image/png": "[encoded data removed]",
      "text/plain": [
       "<Figure size 432x288 with 1 Axes>"
      ]
     },
     "metadata": {
      "needs_background": "light"
     },
     "output_type": "display_data"
    }
   ],
   "source": [
    "print('average length of Authors: ', round(np.mean(x_train_original.Authors.apply(lambda x: len(x))), 2))\n",
    "print(x_train_original.Authors.apply(lambda x: len(x)).describe())\n",
    "p2 = plt.hist(x_train_original.Authors.apply(lambda x: len(x)), bins=20)\n",
    "plt.show()"
   ]
  },
  {
   "cell_type": "code",
   "execution_count": 5,
   "metadata": {},
   "outputs": [
    {
     "name": "stdout",
     "output_type": "stream",
     "text": [
      "average length of Description:  779.77\n",
      "count    23063.000000\n",
      "mean       779.773013\n",
      "std        623.717111\n",
      "min          2.000000\n",
      "25%        339.000000\n",
      "50%        659.000000\n",
      "75%       1052.000000\n",
      "max      27754.000000\n",
      "Name: Description, dtype: float64\n"
     ]
    },
    {
     "data": {
      "image/png": "[encoded data removed]",
      "text/plain": [
       "<Figure size 432x288 with 1 Axes>"
      ]
     },
     "metadata": {
      "needs_background": "light"
     },
     "output_type": "display_data"
    }
   ],
   "source": [
    "print('average length of Description: ', round(np.mean(x_train_original.Description.apply(lambda x: len(x))), 2))\n",
    "print(x_train_original.Description.apply(lambda x: len(x)).describe())\n",
    "p3 = plt.hist(x_train_original.Description.apply(lambda x: len(x)), bins=10)\n",
    "plt.show()"
   ]
  },
  {
   "cell_type": "markdown",
   "metadata": {},
   "source": [
    "### And for SVM, it's good for high dimensional data, so probably it's good for combining all the doc2vec (name, author, description...) together (perhaps 200+ dimensions..) when we use the SVM."
   ]
  }
 ],
 "metadata": {
  "kernelspec": {
   "display_name": "Python 3.8.6 64-bit",
   "language": "python",
   "name": "python3"
  },
  "language_info": {
   "codemirror_mode": {
    "name": "ipython",
    "version": 3
   },
   "file_extension": ".py",
   "mimetype": "text/x-python",
   "name": "python",
   "nbconvert_exporter": "python",
   "pygments_lexer": "ipython3",
   "version": "3.8.6"
  },
  "orig_nbformat": 4,
  "vscode": {
   "interpreter": {
    "hash": "c8f9177a0acce8018d23d7772672ff7f2c1807cf103258a4b51e26a443b2e37b"
   }
  }
 },
 "nbformat": 4,
 "nbformat_minor": 2
}
